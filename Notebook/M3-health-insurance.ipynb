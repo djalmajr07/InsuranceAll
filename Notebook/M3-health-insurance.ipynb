{
 "cells": [
  {
   "cell_type": "markdown",
   "id": "be07bf4b",
   "metadata": {},
   "source": [
    "# 0.0 IMPORTS"
   ]
  },
  {
   "cell_type": "code",
   "execution_count": 1,
   "id": "0e651dbc",
   "metadata": {
    "ExecuteTime": {
     "end_time": "2021-08-09T22:52:13.348954Z",
     "start_time": "2021-08-09T22:52:06.557666Z"
    },
    "hide_input": false
   },
   "outputs": [],
   "source": [
    "import psycopg2\n",
    "import inflection\n",
    "\n",
    "import pandas                  as pd\n",
    "import seaborn                 as sns\n",
    "import numpy                   as np\n",
    "import scikitplot              as skplt\n",
    "import matplotlib.pyplot       as plt\n",
    "import boruta                  as bt\n",
    "import xgboost                 as xgb\n",
    "import random                  as rd\n",
    "import pickle\n",
    "import os\n",
    "\n",
    "from sklearn.model_selection   import train_test_split, StratifiedKFold\n",
    "from lightgbm                  import LGBMClassifier\n",
    "from sklearn.naive_bayes       import GaussianNB\n",
    "from psycopg2                  import Error\n",
    "from sklearn.ensemble          import ExtraTreesClassifier, RandomForestRegressor\n",
    "from tabulate                  import tabulate\n",
    "from sklearn.preprocessing     import RobustScaler,StandardScaler, MinMaxScaler\n",
    "from sklearn.preprocessing     import StandardScaler\n",
    "from sklearn.model_selection   import train_test_split\n",
    "from IPython.display           import Image\n",
    "from IPython.core.display      import HTML\n",
    "from boruta                    import BorutaPy\n",
    "from sklearn.linear_model      import LogisticRegression\n",
    "from sklearn.model_selection   import StratifiedShuffleSplit as sss\n",
    "\n",
    "from sklearn                   import metrics            as m\n",
    "from sklearn                   import neighbors          as nh\n",
    "from sklearn                   import ensemble           as en\n",
    "from sklearn                   import model_selection    as ms\n",
    "from scipy                     import stats              as ss"
   ]
  },
  {
   "cell_type": "markdown",
   "id": "103e2533",
   "metadata": {},
   "source": [
    "##  Helper Functions"
   ]
  },
  {
   "cell_type": "code",
   "execution_count": 2,
   "id": "01760d06",
   "metadata": {
    "ExecuteTime": {
     "end_time": "2021-08-09T22:52:13.490051Z",
     "start_time": "2021-08-09T22:52:13.348954Z"
    }
   },
   "outputs": [
    {
     "name": "stdout",
     "output_type": "stream",
     "text": [
      "Populating the interactive namespace from numpy and matplotlib\n"
     ]
    },
    {
     "data": {
      "text/html": [
       "<style>.container { width:100% !important; }</style>"
      ],
      "text/plain": [
       "<IPython.core.display.HTML object>"
      ]
     },
     "metadata": {},
     "output_type": "display_data"
    }
   ],
   "source": [
    "def cramer_v( x, y ):\n",
    "    cm = pd.crosstab( x, y ).to_numpy()\n",
    "    n = cm.sum()\n",
    "    r, k = cm.shape\n",
    "    chi2 = ss.chi2_contingency( cm )[0]\n",
    "    chi2corr = max( 0, chi2 - (k-1)*(r-1)/(n-1) )\n",
    "    kcorr = k - (k-1)**2/(n-1)\n",
    "    rcorr = r - (r-1)**2/(n-1)\n",
    "    return np.sqrt( (chi2corr/n) / ( min( kcorr-1, rcorr-1 ) ) )\n",
    "\n",
    "\n",
    "# precision_at_k\n",
    "def precision_at_k_(data, k):\n",
    "    data = data.reset_index(drop=True)\n",
    "    data['n_samples'] = data.index + 1\n",
    "    data['precision_at_k'] = data['response'].cumsum() / data['n_samples']\n",
    "    return data.loc[k, 'precision_at_k']\n",
    "\n",
    "# recall_at_k\n",
    "def recall_at_k_(data, k):\n",
    "    data = data.reset_index(drop=True)\n",
    "    data['recall_at_k'] = data['response'].cumsum() / data['response'].sum()\n",
    "    return data.loc[k, 'recall_at_k']\n",
    "\n",
    "\n",
    "def model_results (model_ml, model_name, df, k ):\n",
    "    \n",
    "    precision_list = []\n",
    "    recall_list = []\n",
    "    \n",
    "    #prediction\n",
    "    yhat_proba_model = model_ml.predict_proba(x_validation)\n",
    "\n",
    "    # copy dataframe\n",
    "    df = x_validation.copy()\n",
    "    df['response'] = y_validation.copy()\n",
    "\n",
    "    # propensity score\n",
    "    df['score'] = yhat_proba_model[:, 1].tolist()\n",
    "\n",
    "    # sort clients by propensity score\n",
    "    df = df.sort_values( 'score', ascending=False )\n",
    "\n",
    "    # compute precision at k \n",
    "    precision_model = precision_at_k_( df, k )\n",
    "    \n",
    "    # compute recall at k\n",
    "    recall_model = recall_at_k_( df, k )\n",
    "    \n",
    "    precision_list.append(precision_model)\n",
    "    recall_list.append(recall_model)\n",
    "\n",
    "    # plot\n",
    "    fig, axs = plt.subplots(ncols= 2, figsize = (12,6));\n",
    "    skplt.metrics.plot_cumulative_gain(Y_vali, yhat_proba_model, ax=axs[0],title='Cumulative Gain Curve');\n",
    "    skplt.metrics.plot_lift_curve(Y_vali, yhat_proba_model,ax=axs[1],title='Lift Curve');\n",
    "    \n",
    "    # dataframe\n",
    "    model_rank = pd.DataFrame(columns = {'Model':[], \"Precision_at_k\": [], \"Recall_at_k\": []})\n",
    "    \n",
    "    new_row = {'Model': model_name, \n",
    "               'Precision_at_k': precision_model,\n",
    "               'Recall_at_k': recall_model}\n",
    "            \n",
    "    model_rank = model_rank.append(new_row, ignore_index = True)\n",
    "    return model_rank\n",
    "\n",
    "def jupyter_settings():\n",
    "    %matplotlib inline\n",
    "    %pylab inline\n",
    "    \n",
    "    plt.style.use( 'bmh' )\n",
    "    plt.rcParams['figure.figsize'] = [25, 12]\n",
    "    plt.rcParams['font.size'] = 24\n",
    "    \n",
    "    display( HTML( '<style>.container { width:100% !important; }</style>') )\n",
    "    pd.options.display.max_columns = None\n",
    "    pd.options.display.max_rows = None\n",
    "    pd.set_option( 'display.expand_frame_repr', False )\n",
    "    \n",
    "    sns.set()\n",
    "jupyter_settings()\n",
    "####-------------------------------------------------------------------------------------------------------------------------------------------------------\n",
    "\n",
    "\n",
    "\n",
    "def precision_at_k(data, x_val, y_val, yhat_model, k):\n",
    "    \n",
    "    data = x_val.copy()\n",
    "    data['response'] = y_val.copy()\n",
    "    \n",
    "    # propensity score\n",
    "    data['score'] = yhat_model[:, 1].tolist()      \n",
    "    \n",
    "    data = data.sort_values('score', ascending = False)\n",
    "    \n",
    "    # reset index\n",
    "    data = data.reset_index(drop = True)\n",
    "\n",
    "    # create ranking order\n",
    "    data['ranking'] = data.index + 1 \n",
    "\n",
    "    data['precision_at_k'] = data['response'].cumsum() / data['ranking']\n",
    "\n",
    "    return data.loc[k, 'precision_at_k']\n",
    "\n",
    "\n",
    "def recall_at_k(data, x_val, y_val, yhat_model, k):\n",
    "    \n",
    "    data = x_val.copy()\n",
    "    data['response'] = y_val.copy()\n",
    "    \n",
    "    # propensity score\n",
    "    data['score'] = yhat_model[:, 1].tolist()  \n",
    "    \n",
    "    data = data.sort_values('score', ascending = False)\n",
    "    \n",
    "    # reset index\n",
    "    data = data.reset_index(drop = True)\n",
    "\n",
    "    # create ranking order\n",
    "    data['ranking'] = data.index + 1 \n",
    "\n",
    "    data['recall_at_k'] = data['response'].cumsum() / data['response'].sum()\n",
    "\n",
    "    return data.loc[k, 'recall_at_k']\n",
    "\n",
    "\n",
    "def cross_validation(data, models_performance, num_folds, model_name, model, x_train, y_train, k):\n",
    "    \n",
    "    kfold = ms.StratifiedKFold(n_splits = num_folds, shuffle = True, random_state = 42)\n",
    "    \n",
    "    precision_list = []\n",
    "    recall_list = []\n",
    "    \n",
    "    \n",
    "    i=1\n",
    "    for train_cv,val_cv in kfold.split(x_train, y_train):\n",
    "\n",
    "        x_train_fold = x_train.iloc[train_cv]\n",
    "        y_train_fold = y_train.iloc[train_cv]\n",
    "\n",
    "        x_val_fold = x_train.iloc[val_cv]\n",
    "        y_val_fold = y_train.iloc[val_cv]\n",
    "\n",
    "        model_fit = model.fit(x_train_fold,y_train_fold)\n",
    "\n",
    "        yhat_model = model_fit.predict_proba(x_val_fold)\n",
    "        \n",
    "        x_val_fold['response'] = y_val_fold\n",
    "        \n",
    "        precision = round(precision_at_k(data, x_val_fold, y_val_fold, yhat_model, k), 3)\n",
    "        precision_list.append(precision)\n",
    "        \n",
    "        recall = round(recall_at_k(data, x_val_fold, y_val_fold, yhat_model, k), 3)\n",
    "        recall_list.append(recall)\n",
    "        \n",
    "        \n",
    "        \n",
    "                \n",
    "        i+=1\n",
    "    \n",
    "    precision_str = np.round(np.mean(precision_list), 3).astype(str) + ' +/- ' + np.round(np.std(precision_list), 3).astype(str)\n",
    "    recall_str    = np.round(np.mean(recall_list), 3).astype(str)    + ' +/- ' + np.round(np.std(recall_list), 3)   .astype(str)\n",
    "    models_performance = pd.DataFrame(columns = {'Model':[], \"Precision_at_k\": [], \"Recall_at_k\": []})\n",
    "        \n",
    "    models_performance = models_performance.append(pd.Series([model_name, precision_str, recall_str], index = models_performance.columns), ignore_index = True)\n",
    "\n",
    "    return models_performance\n",
    "\n"
   ]
  },
  {
   "cell_type": "markdown",
   "id": "8cb81d4e",
   "metadata": {},
   "source": [
    "##  Get Data from Database"
   ]
  },
  {
   "cell_type": "code",
   "execution_count": 3,
   "id": "f6597c41",
   "metadata": {
    "ExecuteTime": {
     "end_time": "2021-08-09T22:52:13.506007Z",
     "start_time": "2021-08-09T22:52:13.494041Z"
    }
   },
   "outputs": [],
   "source": [
    "#HOST = 'comunidade-ds-postgres.c50pcakiuwi3.us-east-1.rds.amazonaws.com'\n",
    "#PORT = '5432'\n",
    "#DATABASE = 'comunidadedsdb'\n",
    "#USER = 'member'\n",
    "#PASSWORD ='cdspa'\n",
    "\n",
    "# # Connect to an existing database\n",
    "# connection = psycopg2.connect(user=\"member\",\n",
    "#                               password=\"cdspa\",\n",
    "#                               host=\"comunidade-ds-postgres.c50pcakiuwi3.us-east-1.rds.amazonaws.com\",\n",
    "#                               port=\"5432\",\n",
    "#                               database=\"comunidadedsdb\")\n",
    "# # create a cursor\n",
    "# cursor = connection.cursor()\n",
    "# query = \"\"\"\n",
    "#             SELECT *\n",
    "#                FROM pa004.users pu \n",
    "#                INNER JOIN pa004.vehicle pv \t ON pv.id = pu.id \n",
    "#                INNER JOIN pa004.insurance pi ON pi.id = pu.id\n",
    "#                ORDER BY pu.id \"\"\"\n",
    "\n",
    "# cursor.execute(query)\n",
    "# print(\"Selecting rows from pa004 table using cursor.fetchall ended\")\n",
    "# pa_records = cursor.fetchall()\n",
    "\n",
    "# df = pd.read_sql(query,connection)  \n",
    "    \n",
    "# # close the connection\n",
    "# connection.close()\n",
    "# df = df.drop (df.columns[[5,9]], axis = 1)\n",
    "# df.head()\n",
    "\n",
    "\n",
    "#df.to_csv('C:/Users/Djalma.junior/DS/PA4/dataset/train.csv', index = False)"
   ]
  },
  {
   "cell_type": "markdown",
   "id": "55a8c328",
   "metadata": {},
   "source": [
    "##  Load dataset"
   ]
  },
  {
   "cell_type": "code",
   "execution_count": 4,
   "id": "d1d30dc3",
   "metadata": {
    "ExecuteTime": {
     "end_time": "2021-08-09T22:52:14.135892Z",
     "start_time": "2021-08-09T22:52:13.509000Z"
    }
   },
   "outputs": [],
   "source": [
    "df_raw = pd.read_csv ('C:/Users/Djalma.junior/DS/PA4/dataset/train.csv')"
   ]
  },
  {
   "cell_type": "markdown",
   "id": "bcd22037",
   "metadata": {
    "heading_collapsed": true
   },
   "source": [
    "#  1.0 DESCRICAO DOS DADOS"
   ]
  },
  {
   "cell_type": "code",
   "execution_count": 5,
   "id": "da12c649",
   "metadata": {
    "ExecuteTime": {
     "end_time": "2021-08-09T16:54:19.953439Z",
     "start_time": "2021-08-09T16:54:19.924045Z"
    },
    "hidden": true
   },
   "outputs": [],
   "source": [
    "df1 = df_raw.copy()"
   ]
  },
  {
   "cell_type": "markdown",
   "id": "391caa14",
   "metadata": {
    "ExecuteTime": {
     "end_time": "2019-11-10T11:26:41.736121Z",
     "start_time": "2019-11-10T11:26:41.732986Z"
    },
    "hidden": true
   },
   "source": [
    "## 1.1. Rename Columns"
   ]
  },
  {
   "cell_type": "code",
   "execution_count": 6,
   "id": "61d76934",
   "metadata": {
    "ExecuteTime": {
     "end_time": "2021-08-09T16:54:19.983358Z",
     "start_time": "2021-08-09T16:54:19.964410Z"
    },
    "hidden": true
   },
   "outputs": [
    {
     "data": {
      "text/plain": [
       "Index(['id', 'gender', 'age', 'region_code', 'policy_sales_channel',\n",
       "       'driving_license', 'vehicle_age', 'vehicle_damage',\n",
       "       'previously_insured', 'annual_premium', 'vintage', 'response'],\n",
       "      dtype='object')"
      ]
     },
     "execution_count": 6,
     "metadata": {},
     "output_type": "execute_result"
    }
   ],
   "source": [
    "df1.rename(columns={'Unnamed: 0': 'id'}, inplace=True)\n",
    "\n",
    "df1.columns"
   ]
  },
  {
   "cell_type": "markdown",
   "id": "a752cee0",
   "metadata": {
    "ExecuteTime": {
     "end_time": "2019-11-10T11:26:41.736121Z",
     "start_time": "2019-11-10T11:26:41.732986Z"
    },
    "hidden": true
   },
   "source": [
    "## 1.2. Data Dimensions"
   ]
  },
  {
   "cell_type": "code",
   "execution_count": 7,
   "id": "061bf434",
   "metadata": {
    "ExecuteTime": {
     "end_time": "2021-08-09T16:54:19.998318Z",
     "start_time": "2021-08-09T16:54:19.988345Z"
    },
    "hidden": true
   },
   "outputs": [
    {
     "name": "stdout",
     "output_type": "stream",
     "text": [
      "Number of Rows: 381109\n",
      "Number of Cols: 12\n"
     ]
    }
   ],
   "source": [
    "print( 'Number of Rows: {}'.format( df1.shape[0] ) )\n",
    "print( 'Number of Cols: {}'.format( df1.shape[1] ) )"
   ]
  },
  {
   "cell_type": "markdown",
   "id": "ec5661d3",
   "metadata": {
    "ExecuteTime": {
     "end_time": "2019-11-10T11:26:41.736121Z",
     "start_time": "2019-11-10T11:26:41.732986Z"
    },
    "hidden": true
   },
   "source": [
    "## 1.3. Data Types"
   ]
  },
  {
   "cell_type": "code",
   "execution_count": 8,
   "id": "4e92205c",
   "metadata": {
    "ExecuteTime": {
     "end_time": "2021-08-09T16:54:20.029237Z",
     "start_time": "2021-08-09T16:54:20.002307Z"
    },
    "hidden": true
   },
   "outputs": [
    {
     "data": {
      "text/plain": [
       "id                        int64\n",
       "gender                   object\n",
       "age                       int64\n",
       "region_code             float64\n",
       "policy_sales_channel    float64\n",
       "driving_license           int64\n",
       "vehicle_age              object\n",
       "vehicle_damage           object\n",
       "previously_insured        int64\n",
       "annual_premium          float64\n",
       "vintage                   int64\n",
       "response                  int64\n",
       "dtype: object"
      ]
     },
     "execution_count": 8,
     "metadata": {},
     "output_type": "execute_result"
    }
   ],
   "source": [
    "df1.dtypes"
   ]
  },
  {
   "cell_type": "markdown",
   "id": "62a84d97",
   "metadata": {
    "ExecuteTime": {
     "end_time": "2019-11-10T11:26:41.736121Z",
     "start_time": "2019-11-10T11:26:41.732986Z"
    },
    "hidden": true
   },
   "source": [
    "## 1.4. Check NA"
   ]
  },
  {
   "cell_type": "code",
   "execution_count": 9,
   "id": "b8e5bed5",
   "metadata": {
    "ExecuteTime": {
     "end_time": "2021-08-09T16:54:20.199779Z",
     "start_time": "2021-08-09T16:54:20.033225Z"
    },
    "hidden": true
   },
   "outputs": [
    {
     "data": {
      "text/plain": [
       "id                      0\n",
       "gender                  0\n",
       "age                     0\n",
       "region_code             0\n",
       "policy_sales_channel    0\n",
       "driving_license         0\n",
       "vehicle_age             0\n",
       "vehicle_damage          0\n",
       "previously_insured      0\n",
       "annual_premium          0\n",
       "vintage                 0\n",
       "response                0\n",
       "dtype: int64"
      ]
     },
     "execution_count": 9,
     "metadata": {},
     "output_type": "execute_result"
    }
   ],
   "source": [
    "df1.isna().sum()"
   ]
  },
  {
   "cell_type": "markdown",
   "id": "f73ccbe3",
   "metadata": {
    "ExecuteTime": {
     "end_time": "2019-11-10T11:26:41.736121Z",
     "start_time": "2019-11-10T11:26:41.732986Z"
    },
    "hidden": true
   },
   "source": [
    "## 1.5. Descriptive Statistics"
   ]
  },
  {
   "cell_type": "code",
   "execution_count": 10,
   "id": "342e7750",
   "metadata": {
    "ExecuteTime": {
     "end_time": "2021-08-09T16:54:20.262611Z",
     "start_time": "2021-08-09T16:54:20.202772Z"
    },
    "hidden": true
   },
   "outputs": [],
   "source": [
    "num_attributes = df1.select_dtypes( include=['int64', 'float64'] )\n",
    "cat_attributes = df1.select_dtypes( exclude=['int64', 'float64'] )"
   ]
  },
  {
   "cell_type": "markdown",
   "id": "dcca40cb",
   "metadata": {
    "ExecuteTime": {
     "end_time": "2019-11-10T11:26:41.736121Z",
     "start_time": "2019-11-10T11:26:41.732986Z"
    },
    "hidden": true
   },
   "source": [
    "### 1.5.1. Numerical Atributes"
   ]
  },
  {
   "cell_type": "code",
   "execution_count": 11,
   "id": "73a1615c",
   "metadata": {
    "ExecuteTime": {
     "end_time": "2021-08-09T16:54:21.864706Z",
     "start_time": "2021-08-09T16:54:20.265604Z"
    },
    "hidden": true
   },
   "outputs": [
    {
     "data": {
      "text/html": [
       "<div>\n",
       "<style scoped>\n",
       "    .dataframe tbody tr th:only-of-type {\n",
       "        vertical-align: middle;\n",
       "    }\n",
       "\n",
       "    .dataframe tbody tr th {\n",
       "        vertical-align: top;\n",
       "    }\n",
       "\n",
       "    .dataframe thead th {\n",
       "        text-align: right;\n",
       "    }\n",
       "</style>\n",
       "<table border=\"1\" class=\"dataframe\">\n",
       "  <thead>\n",
       "    <tr style=\"text-align: right;\">\n",
       "      <th></th>\n",
       "      <th>attributes</th>\n",
       "      <th>min</th>\n",
       "      <th>max</th>\n",
       "      <th>range</th>\n",
       "      <th>mean</th>\n",
       "      <th>median</th>\n",
       "      <th>std</th>\n",
       "      <th>skew</th>\n",
       "      <th>kurtosis</th>\n",
       "    </tr>\n",
       "  </thead>\n",
       "  <tbody>\n",
       "    <tr>\n",
       "      <th>0</th>\n",
       "      <td>id</td>\n",
       "      <td>0.0</td>\n",
       "      <td>381108.0</td>\n",
       "      <td>381108.0</td>\n",
       "      <td>190554.000000</td>\n",
       "      <td>190554.0</td>\n",
       "      <td>110016.691870</td>\n",
       "      <td>9.443274e-16</td>\n",
       "      <td>-1.200000</td>\n",
       "    </tr>\n",
       "    <tr>\n",
       "      <th>1</th>\n",
       "      <td>age</td>\n",
       "      <td>20.0</td>\n",
       "      <td>85.0</td>\n",
       "      <td>65.0</td>\n",
       "      <td>38.822584</td>\n",
       "      <td>36.0</td>\n",
       "      <td>15.511591</td>\n",
       "      <td>6.725390e-01</td>\n",
       "      <td>-0.565655</td>\n",
       "    </tr>\n",
       "    <tr>\n",
       "      <th>2</th>\n",
       "      <td>region_code</td>\n",
       "      <td>0.0</td>\n",
       "      <td>52.0</td>\n",
       "      <td>52.0</td>\n",
       "      <td>26.388807</td>\n",
       "      <td>28.0</td>\n",
       "      <td>13.229871</td>\n",
       "      <td>-1.152664e-01</td>\n",
       "      <td>-0.867857</td>\n",
       "    </tr>\n",
       "    <tr>\n",
       "      <th>3</th>\n",
       "      <td>policy_sales_channel</td>\n",
       "      <td>1.0</td>\n",
       "      <td>163.0</td>\n",
       "      <td>162.0</td>\n",
       "      <td>112.034295</td>\n",
       "      <td>133.0</td>\n",
       "      <td>54.203924</td>\n",
       "      <td>-9.000081e-01</td>\n",
       "      <td>-0.970810</td>\n",
       "    </tr>\n",
       "    <tr>\n",
       "      <th>4</th>\n",
       "      <td>driving_license</td>\n",
       "      <td>0.0</td>\n",
       "      <td>1.0</td>\n",
       "      <td>1.0</td>\n",
       "      <td>0.997869</td>\n",
       "      <td>1.0</td>\n",
       "      <td>0.046109</td>\n",
       "      <td>-2.159518e+01</td>\n",
       "      <td>464.354302</td>\n",
       "    </tr>\n",
       "    <tr>\n",
       "      <th>5</th>\n",
       "      <td>previously_insured</td>\n",
       "      <td>0.0</td>\n",
       "      <td>1.0</td>\n",
       "      <td>1.0</td>\n",
       "      <td>0.458210</td>\n",
       "      <td>0.0</td>\n",
       "      <td>0.498251</td>\n",
       "      <td>1.677471e-01</td>\n",
       "      <td>-1.971871</td>\n",
       "    </tr>\n",
       "    <tr>\n",
       "      <th>6</th>\n",
       "      <td>annual_premium</td>\n",
       "      <td>2630.0</td>\n",
       "      <td>540165.0</td>\n",
       "      <td>537535.0</td>\n",
       "      <td>30564.389581</td>\n",
       "      <td>31669.0</td>\n",
       "      <td>17213.132474</td>\n",
       "      <td>1.766087e+00</td>\n",
       "      <td>34.004569</td>\n",
       "    </tr>\n",
       "    <tr>\n",
       "      <th>7</th>\n",
       "      <td>vintage</td>\n",
       "      <td>10.0</td>\n",
       "      <td>299.0</td>\n",
       "      <td>289.0</td>\n",
       "      <td>154.347397</td>\n",
       "      <td>154.0</td>\n",
       "      <td>83.671194</td>\n",
       "      <td>3.029517e-03</td>\n",
       "      <td>-1.200688</td>\n",
       "    </tr>\n",
       "    <tr>\n",
       "      <th>8</th>\n",
       "      <td>response</td>\n",
       "      <td>0.0</td>\n",
       "      <td>1.0</td>\n",
       "      <td>1.0</td>\n",
       "      <td>0.122563</td>\n",
       "      <td>0.0</td>\n",
       "      <td>0.327935</td>\n",
       "      <td>2.301906e+00</td>\n",
       "      <td>3.298788</td>\n",
       "    </tr>\n",
       "  </tbody>\n",
       "</table>\n",
       "</div>"
      ],
      "text/plain": [
       "             attributes     min       max     range           mean    median            std          skew    kurtosis\n",
       "0                    id     0.0  381108.0  381108.0  190554.000000  190554.0  110016.691870  9.443274e-16   -1.200000\n",
       "1                   age    20.0      85.0      65.0      38.822584      36.0      15.511591  6.725390e-01   -0.565655\n",
       "2           region_code     0.0      52.0      52.0      26.388807      28.0      13.229871 -1.152664e-01   -0.867857\n",
       "3  policy_sales_channel     1.0     163.0     162.0     112.034295     133.0      54.203924 -9.000081e-01   -0.970810\n",
       "4       driving_license     0.0       1.0       1.0       0.997869       1.0       0.046109 -2.159518e+01  464.354302\n",
       "5    previously_insured     0.0       1.0       1.0       0.458210       0.0       0.498251  1.677471e-01   -1.971871\n",
       "6        annual_premium  2630.0  540165.0  537535.0   30564.389581   31669.0   17213.132474  1.766087e+00   34.004569\n",
       "7               vintage    10.0     299.0     289.0     154.347397     154.0      83.671194  3.029517e-03   -1.200688\n",
       "8              response     0.0       1.0       1.0       0.122563       0.0       0.327935  2.301906e+00    3.298788"
      ]
     },
     "execution_count": 11,
     "metadata": {},
     "output_type": "execute_result"
    }
   ],
   "source": [
    "# Central Tendency - mean, meadina \n",
    "ct1 = pd.DataFrame( num_attributes.apply( np.mean ) ).T\n",
    "ct2 = pd.DataFrame( num_attributes.apply( np.median ) ).T\n",
    "\n",
    "# dispersion - std, min, max, range, skew, kurtosis\n",
    "d1 = pd.DataFrame( num_attributes.apply( np.std ) ).T \n",
    "d2 = pd.DataFrame( num_attributes.apply( min ) ).T \n",
    "d3 = pd.DataFrame( num_attributes.apply( max ) ).T \n",
    "d4 = pd.DataFrame( num_attributes.apply( lambda x: x.max() - x.min() ) ).T \n",
    "d5 = pd.DataFrame( num_attributes.apply( lambda x: x.skew() ) ).T \n",
    "d6 = pd.DataFrame( num_attributes.apply( lambda x: x.kurtosis() ) ).T \n",
    "\n",
    "# concatenar\n",
    "m = pd.concat( [d2, d3, d4, ct1, ct2, d1, d5, d6] ).T.reset_index()\n",
    "m.columns = ['attributes', 'min', 'max', 'range', 'mean', 'median', 'std', 'skew', 'kurtosis']\n",
    "m"
   ]
  },
  {
   "cell_type": "markdown",
   "id": "07411f79",
   "metadata": {
    "ExecuteTime": {
     "end_time": "2021-06-27T23:11:51.763676Z",
     "start_time": "2021-06-27T23:11:51.569419Z"
    },
    "heading_collapsed": true
   },
   "source": [
    "# 2.0 FEATURE ENGINEERING"
   ]
  },
  {
   "cell_type": "code",
   "execution_count": 12,
   "id": "fb4828d6",
   "metadata": {
    "ExecuteTime": {
     "end_time": "2021-08-09T16:54:21.898769Z",
     "start_time": "2021-08-09T16:54:21.867700Z"
    },
    "hidden": true
   },
   "outputs": [],
   "source": [
    "df2 = df1.copy()"
   ]
  },
  {
   "cell_type": "markdown",
   "id": "8cd3ef7d",
   "metadata": {
    "hidden": true
   },
   "source": [
    "## 2.1 Hypothesis Mental Map"
   ]
  },
  {
   "cell_type": "code",
   "execution_count": 13,
   "id": "77fe149f",
   "metadata": {
    "ExecuteTime": {
     "end_time": "2021-08-09T16:54:21.944646Z",
     "start_time": "2021-08-09T16:54:21.901762Z"
    },
    "hidden": true
   },
   "outputs": [
    {
     "data": {
      "image/png": "[encoded data removed]",
      "text/plain": [
       "<IPython.core.display.Image object>"
      ]
     },
     "execution_count": 13,
     "metadata": {},
     "output_type": "execute_result"
    }
   ],
   "source": [
    "Image ('IMG/CAR_INSURANCE_CROSS_SELLING.png')"
   ]
  },
  {
   "cell_type": "markdown",
   "id": "1aeff896",
   "metadata": {
    "hidden": true
   },
   "source": [
    "###  2.2.1 Customer Hypotheses\n",
    "\n",
    "\n",
    "\n",
    "\n"
   ]
  },
  {
   "cell_type": "markdown",
   "id": "e2e30d66",
   "metadata": {
    "hidden": true
   },
   "source": [
    "\n",
    "1. Mulheres estão mais propensas a contratar seguros de carro.\n",
    "2. Quanto maior a idade, maior a possibilidade de contratar um seguro de carro.\n",
    "3. O local de residência influi na decisão de contratar um seguro de carro.\n",
    "4. Pessoas casadas possuem maior tendência de contratar um seguro de carro.\n",
    "5. Pessoas com filhos possuem maior tendência de contratar um seguro de carro.\n",
    "\n",
    "\n"
   ]
  },
  {
   "cell_type": "markdown",
   "id": "50490422",
   "metadata": {
    "hidden": true
   },
   "source": [
    "### 2.2.2 Vehicle Hypotheses"
   ]
  },
  {
   "cell_type": "markdown",
   "id": "a22bf8cf",
   "metadata": {
    "ExecuteTime": {
     "end_time": "2021-07-15T10:53:32.470352Z",
     "start_time": "2021-07-15T10:53:32.447423Z"
    },
    "hidden": true
   },
   "source": [
    "1. Pessoas que já tiveram danos em seus carros tem maior propensão a contratar um seguro de carro.\n",
    "2. Pessoas que a já possuem seguro de carro tem maior propensão a adquirir uma nova apólice.\n",
    "3. Pessoas com veículos mais novos tem maior tendência a contratar seguro de carro.\n",
    "4. Pessoas que utilizam o carro de maneira mais frequente tem maior tendência a contratar um seguro de carro."
   ]
  },
  {
   "cell_type": "markdown",
   "id": "cff52d59",
   "metadata": {
    "hidden": true
   },
   "source": [
    "### 2.2.3 Insurance Company Hypotheses"
   ]
  },
  {
   "cell_type": "markdown",
   "id": "e9b3b45d",
   "metadata": {
    "hidden": true
   },
   "source": [
    "1. Clientes com relação mais antiga com a seguradora tem maior propensão em contratar um novo produto.\n",
    "2. Clientes com gastos mais elevados em seguros de saúde tem maior tendência em contratar um novo produto.\n",
    "3. O canal de comunicação utilizado para realizar a oferta influí na aceitação do novo produto.  "
   ]
  },
  {
   "cell_type": "markdown",
   "id": "1bd20828",
   "metadata": {
    "hidden": true
   },
   "source": [
    "###  2.3 Hypotheses Final List"
   ]
  },
  {
   "cell_type": "markdown",
   "id": "e05399d7",
   "metadata": {
    "ExecuteTime": {
     "end_time": "2021-07-15T10:53:56.234761Z",
     "start_time": "2021-07-15T10:53:50.515Z"
    },
    "hidden": true
   },
   "source": [
    "1. Mulheres estão mais propensas a contratar seguros de carro.\n",
    "2. Quanto maior a idade, maior a possibilidade de contratar um seguro de carro.\n",
    "3. O local de residência influi na decisão de contratar um seguro de carro.\n",
    "4. Pessoas que já tiveram danos em seus carros tem maior propensão a contratar um seguro de carro.\n",
    "5. Pessoas que a já possuem seguro de carro tem maior propensão a adquirir uma nova apólice.\n",
    "6. Pessoas com veículos mais novos tem maior tendência a contratar seguro de carro.\n",
    "7. Clientes com relação mais antiga com a seguradora tem maior propensão em contratar um novo produto."
   ]
  },
  {
   "cell_type": "markdown",
   "id": "f57e0ec6",
   "metadata": {
    "hidden": true
   },
   "source": [
    "## 2.2. Feature Engineering\n"
   ]
  },
  {
   "cell_type": "code",
   "execution_count": 14,
   "id": "3cf7b6f1",
   "metadata": {
    "ExecuteTime": {
     "end_time": "2021-08-09T16:54:22.285736Z",
     "start_time": "2021-08-09T16:54:21.947640Z"
    },
    "hidden": true
   },
   "outputs": [],
   "source": [
    "df2 ['vehicle_damage'] = df2['vehicle_damage'].apply (lambda x : 1 if x == 'Yes' else 0 ).astype(int64)"
   ]
  },
  {
   "cell_type": "code",
   "execution_count": 15,
   "id": "73e00150",
   "metadata": {
    "ExecuteTime": {
     "end_time": "2021-08-09T16:54:22.489276Z",
     "start_time": "2021-08-09T16:54:22.288727Z"
    },
    "hidden": true
   },
   "outputs": [],
   "source": [
    "df2 ['vehicle_age'] = df2 ['vehicle_age'].apply (lambda x: 'less_1_year'   if x == '< 1 Year'  else  'btw_1_2_years'    if x == '1-2 Year'    else 'over_2_years') \n"
   ]
  },
  {
   "cell_type": "markdown",
   "id": "7401dea4",
   "metadata": {
    "heading_collapsed": true
   },
   "source": [
    "#  3.0 FILTRAGEM DE VARIÁVEIS\n",
    "\n"
   ]
  },
  {
   "cell_type": "code",
   "execution_count": 16,
   "id": "577cc8a9",
   "metadata": {
    "ExecuteTime": {
     "end_time": "2021-08-09T16:54:22.521196Z",
     "start_time": "2021-08-09T16:54:22.492274Z"
    },
    "hidden": true
   },
   "outputs": [],
   "source": [
    "df3 = df2.copy()"
   ]
  }
 ],
 "metadata": {
  "kernelspec": {
   "display_name": "Python 3",
   "language": "python",
   "name": "python3"
  },
  "language_info": {
   "codemirror_mode": {
    "name": "ipython",
    "version": 3
   },
   "file_extension": ".py",
   "mimetype": "text/x-python",
   "name": "python",
   "nbconvert_exporter": "python",
   "pygments_lexer": "ipython3",
   "version": "3.8.10"
  },
  "toc": {
   "base_numbering": "0",
   "nav_menu": {},
   "number_sections": false,
   "sideBar": true,
   "skip_h1_title": false,
   "title_cell": "Table of Contents",
   "title_sidebar": "Contents",
   "toc_cell": false,
   "toc_position": {
    "height": "calc(100% - 180px)",
    "left": "10px",
    "top": "150px",
    "width": "208px"
   },
   "toc_section_display": true,
   "toc_window_display": true
  },
  "varInspector": {
   "cols": {
    "lenName": 16,
    "lenType": 16,
    "lenVar": 40
   },
   "kernels_config": {
    "python": {
     "delete_cmd_postfix": "",
     "delete_cmd_prefix": "del ",
     "library": "var_list.py",
     "varRefreshCmd": "print(var_dic_list())"
    },
    "r": {
     "delete_cmd_postfix": ") ",
     "delete_cmd_prefix": "rm(",
     "library": "var_list.r",
     "varRefreshCmd": "cat(var_dic_list()) "
    }
   },
   "types_to_exclude": [
    "module",
    "function",
    "builtin_function_or_method",
    "instance",
    "_Feature"
   ],
   "window_display": false
  }
 },
 "nbformat": 4,
 "nbformat_minor": 5
}
